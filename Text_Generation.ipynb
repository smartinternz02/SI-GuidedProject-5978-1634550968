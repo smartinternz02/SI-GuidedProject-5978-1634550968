{
  "nbformat": 4,
  "nbformat_minor": 0,
  "metadata": {
    "colab": {
      "name": "Text Generation.ipynb",
      "provenance": [],
      "collapsed_sections": []
    },
    "kernelspec": {
      "display_name": "Python 3",
      "name": "python3"
    },
    "language_info": {
      "name": "python"
    }
  },
  "cells": [
    {
      "cell_type": "code",
      "metadata": {
        "id": "hVaGIF2xYb21"
      },
      "source": [
        "import sys\n",
        "import os\n",
        "import numpy as np\n",
        "from keras.utils import np_utils"
      ],
      "execution_count": 22,
      "outputs": []
    },
    {
      "cell_type": "code",
      "metadata": {
        "id": "HkBLrioucfru"
      },
      "source": [
        "file=open('wonderland.txt',encoding='utf8')\n",
        "raw_text=file.read()"
      ],
      "execution_count": 23,
      "outputs": []
    },
    {
      "cell_type": "code",
      "metadata": {
        "id": "AT2oho6nEfDZ"
      },
      "source": [
        "raw_text=raw_text.lower()"
      ],
      "execution_count": 24,
      "outputs": []
    },
    {
      "cell_type": "code",
      "metadata": {
        "colab": {
          "base_uri": "https://localhost:8080/"
        },
        "id": "eqUWoLwkFFAr",
        "outputId": "8218e84e-61eb-4444-b2ab-96d6ec3b42c3"
      },
      "source": [
        "chars=sorted(list(set(raw_text)))\n",
        "print(chars)"
      ],
      "execution_count": 25,
      "outputs": [
        {
          "output_type": "stream",
          "name": "stdout",
          "text": [
            "['\\n', ' ', '!', '#', '$', '%', '(', ')', '*', ',', '-', '.', '/', '0', '1', '2', '3', '4', '5', '6', '7', '8', '9', ':', ';', '?', '@', '[', ']', '_', 'a', 'b', 'c', 'd', 'e', 'f', 'g', 'h', 'i', 'j', 'k', 'l', 'm', 'n', 'o', 'p', 'q', 'r', 's', 't', 'u', 'v', 'w', 'x', 'y', 'z', '‘', '’', '“', '”', '\\ufeff']\n"
          ]
        }
      ]
    },
    {
      "cell_type": "code",
      "metadata": {
        "colab": {
          "base_uri": "https://localhost:8080/"
        },
        "id": "4HSn14sLFQsY",
        "outputId": "05c0f5a0-1507-4062-fcc8-6bb3818b400d"
      },
      "source": [
        "bad_chars=['#','*','@','_','\\ufeff']\n",
        "for i in range(len(bad_chars)):\n",
        "    raw_text=raw_text.replace(bad_chars[i],\"\")\n",
        "chars= sorted(list(set(raw_text)))  \n",
        "print(chars)"
      ],
      "execution_count": 26,
      "outputs": [
        {
          "output_type": "stream",
          "name": "stdout",
          "text": [
            "['\\n', ' ', '!', '$', '%', '(', ')', ',', '-', '.', '/', '0', '1', '2', '3', '4', '5', '6', '7', '8', '9', ':', ';', '?', '[', ']', 'a', 'b', 'c', 'd', 'e', 'f', 'g', 'h', 'i', 'j', 'k', 'l', 'm', 'n', 'o', 'p', 'q', 'r', 's', 't', 'u', 'v', 'w', 'x', 'y', 'z', '‘', '’', '“', '”']\n"
          ]
        }
      ]
    },
    {
      "cell_type": "code",
      "metadata": {
        "colab": {
          "base_uri": "https://localhost:8080/"
        },
        "id": "wdm3BSTOFsnD",
        "outputId": "ce15d968-ec68-4404-ca5f-7f2250f9ce3c"
      },
      "source": [
        "text_length=len(raw_text)\n",
        "char_length=len(chars)\n",
        "VOCABULARY=char_length\n",
        "print(\"Text Length=\"+str(text_length))\n",
        "print(\"Number of Characters=\"+str(char_length))"
      ],
      "execution_count": 27,
      "outputs": [
        {
          "output_type": "stream",
          "name": "stdout",
          "text": [
            "Text Length=163721\n",
            "Number of Characters=56\n"
          ]
        }
      ]
    },
    {
      "cell_type": "code",
      "metadata": {
        "id": "HiMP1h7ZF34k"
      },
      "source": [
        "SEQ_LENGTH = 100\n",
        "char_to_int=dict((c,i)for i,c in enumerate(chars))\n",
        "data_X=[]\n",
        "data_Y=[]\n",
        "for i in range(len(raw_text)-SEQ_LENGTH):\n",
        "    X_text=raw_text[i:i+SEQ_LENGTH]\n",
        "    X=[char_to_int[char]for char in X_text]\n",
        "    data_X.append(X)\n",
        "    Y=raw_text[i+SEQ_LENGTH]\n",
        "    data_Y.append(char_to_int[Y])"
      ],
      "execution_count": 28,
      "outputs": []
    },
    {
      "cell_type": "code",
      "metadata": {
        "colab": {
          "base_uri": "https://localhost:8080/"
        },
        "id": "w5rhjVH2GBUs",
        "outputId": "db9666f3-9446-4196-a287-a956b37de677"
      },
      "source": [
        "length=len(data_X)\n",
        "data_X=np.array(data_X)\n",
        "data_X=np.reshape(data_X,(data_X.shape[0],data_X.shape[1],1))\n",
        "data_X=data_X/float(VOCABULARY)\n",
        "data_Y=np.array(data_Y)\n",
        "data_Y=np_utils.to_categorical(data_Y)\n",
        "print(data_X.shape)\n",
        "print(data_Y.shape)"
      ],
      "execution_count": 29,
      "outputs": [
        {
          "output_type": "stream",
          "name": "stdout",
          "text": [
            "(163621, 100, 1)\n",
            "(163621, 56)\n"
          ]
        }
      ]
    },
    {
      "cell_type": "markdown",
      "metadata": {
        "id": "XB1GnuzxGaGv"
      },
      "source": [
        "**Model Building** "
      ]
    },
    {
      "cell_type": "code",
      "metadata": {
        "id": "rnIVbV8mGrGu"
      },
      "source": [
        "import keras\n",
        "from tensorflow.keras.models import Sequential \n",
        "from keras.layers import Dense,LSTM,Dropout,Activation \n",
        "from tensorflow.keras.optimizers import RMSprop,Adam \n",
        "from keras.callbacks import ModelCheckpoint\n",
        "import math "
      ],
      "execution_count": 30,
      "outputs": []
    },
    {
      "cell_type": "code",
      "metadata": {
        "id": "hvEDN7xIG8Kl"
      },
      "source": [
        "model=Sequential()"
      ],
      "execution_count": 31,
      "outputs": []
    },
    {
      "cell_type": "code",
      "metadata": {
        "id": "3CfIhIHsHFWa"
      },
      "source": [
        "model.add(LSTM(256,input_shape=(SEQ_LENGTH,1),return_sequences=True))\n",
        "model.add(Dropout(0.2))\n",
        "model.add(LSTM(256))\n",
        "model.add(Dropout(0.2))"
      ],
      "execution_count": 32,
      "outputs": []
    },
    {
      "cell_type": "code",
      "metadata": {
        "id": "qu0kGm1dIDYr"
      },
      "source": [
        "model.add(Dense(VOCABULARY,activation='softmax'))"
      ],
      "execution_count": 33,
      "outputs": []
    },
    {
      "cell_type": "code",
      "metadata": {
        "id": "zpEqB2USILMM"
      },
      "source": [
        "model.compile(loss='categorical_crossentropy',optimizer='adam')"
      ],
      "execution_count": 13,
      "outputs": []
    },
    {
      "cell_type": "code",
      "metadata": {
        "id": "NqjYVcmjITAN"
      },
      "source": [
        "filepath=\"text_generation.h5\"\n",
        "checkpoint=ModelCheckpoint(filepath,monitor='loss',verbose=1,save_best_only=True,mode='min')\n",
        "callbacks_list=[checkpoint]\n",
        "history=model.fit(data_X,data_Y,epochs=10,batch_size=128,callbacks=callbacks_list)"
      ],
      "execution_count": null,
      "outputs": []
    },
    {
      "cell_type": "code",
      "metadata": {
        "id": "s_RVrbcwmUUR"
      },
      "source": [
        "filename='text_generation.h5'\n",
        "model.load_weights(filename)\n",
        "model.compile(loss='categorical_crossentropy',optimizer='adam')"
      ],
      "execution_count": 34,
      "outputs": []
    },
    {
      "cell_type": "code",
      "metadata": {
        "id": "G5e77mrQs4NX"
      },
      "source": [
        "initial_text= 'the sun did not shine,it was too wet to play,so we sat in  the house all that cold,we did not goout.'\n",
        "initial_text=[char_to_int[c]for c in initial_text]"
      ],
      "execution_count": 35,
      "outputs": []
    },
    {
      "cell_type": "code",
      "metadata": {
        "colab": {
          "base_uri": "https://localhost:8080/"
        },
        "id": "Vzf6EEj8uWgv",
        "outputId": "0eec7144-7eaf-4d96-f906-22c94a184fd0"
      },
      "source": [
        "len(initial_text)"
      ],
      "execution_count": 36,
      "outputs": [
        {
          "output_type": "execute_result",
          "data": {
            "text/plain": [
              "100"
            ]
          },
          "metadata": {},
          "execution_count": 36
        }
      ]
    },
    {
      "cell_type": "code",
      "metadata": {
        "id": "MPe38z_cu958"
      },
      "source": [
        "SEQ_LENGTH=100"
      ],
      "execution_count": 37,
      "outputs": []
    },
    {
      "cell_type": "code",
      "metadata": {
        "colab": {
          "base_uri": "https://localhost:8080/"
        },
        "id": "aQWtdYm4Pc9p",
        "outputId": "4fbb5eba-1d6f-405c-809e-b24c796c5718"
      },
      "source": [
        "int_to_char = dict((i, c) for i, c in enumerate(chars))\n",
        "GENERATED_LENGTH = 100\n",
        "test_text = initial_text\n",
        "for i in range(100):\n",
        "    X = np.reshape(test_text,(1, SEQ_LENGTH, 1))\n",
        "    X  = X / float(VOCABULARY)\n",
        "    Prediction = model.predict(X)\n",
        "    index = np.argmax(Prediction)\n",
        "    result = int_to_char[index]\n",
        "    sys.stdout.write(result)\n",
        "    test_text.append(index)\n",
        "    test_text = test_text[1:]\n",
        "print(\"\\nDone.\")"
      ],
      "execution_count": 38,
      "outputs": [
        {
          "output_type": "stream",
          "name": "stdout",
          "text": [
            " \n",
            "‘he wes to the teit the teit the teit the tas the tas the tas the tas the tas the tas the tas the \n",
            "Done.\n"
          ]
        }
      ]
    },
    {
      "cell_type": "code",
      "metadata": {
        "colab": {
          "base_uri": "https://localhost:8080/"
        },
        "id": "vTk0SG1bQahv",
        "outputId": "43175672-5fa5-4f8f-f18d-17c6df5d88b7"
      },
      "source": [
        "test_text"
      ],
      "execution_count": 39,
      "outputs": [
        {
          "output_type": "execute_result",
          "data": {
            "text/plain": [
              "[1,\n",
              " 0,\n",
              " 52,\n",
              " 33,\n",
              " 30,\n",
              " 1,\n",
              " 48,\n",
              " 30,\n",
              " 44,\n",
              " 1,\n",
              " 45,\n",
              " 40,\n",
              " 1,\n",
              " 45,\n",
              " 33,\n",
              " 30,\n",
              " 1,\n",
              " 45,\n",
              " 30,\n",
              " 34,\n",
              " 45,\n",
              " 1,\n",
              " 45,\n",
              " 33,\n",
              " 30,\n",
              " 1,\n",
              " 45,\n",
              " 30,\n",
              " 34,\n",
              " 45,\n",
              " 1,\n",
              " 45,\n",
              " 33,\n",
              " 30,\n",
              " 1,\n",
              " 45,\n",
              " 30,\n",
              " 34,\n",
              " 45,\n",
              " 1,\n",
              " 45,\n",
              " 33,\n",
              " 30,\n",
              " 1,\n",
              " 45,\n",
              " 26,\n",
              " 44,\n",
              " 1,\n",
              " 45,\n",
              " 33,\n",
              " 30,\n",
              " 1,\n",
              " 45,\n",
              " 26,\n",
              " 44,\n",
              " 1,\n",
              " 45,\n",
              " 33,\n",
              " 30,\n",
              " 1,\n",
              " 45,\n",
              " 26,\n",
              " 44,\n",
              " 1,\n",
              " 45,\n",
              " 33,\n",
              " 30,\n",
              " 1,\n",
              " 45,\n",
              " 26,\n",
              " 44,\n",
              " 1,\n",
              " 45,\n",
              " 33,\n",
              " 30,\n",
              " 1,\n",
              " 45,\n",
              " 26,\n",
              " 44,\n",
              " 1,\n",
              " 45,\n",
              " 33,\n",
              " 30,\n",
              " 1,\n",
              " 45,\n",
              " 26,\n",
              " 44,\n",
              " 1,\n",
              " 45,\n",
              " 33,\n",
              " 30,\n",
              " 1,\n",
              " 45,\n",
              " 26,\n",
              " 44,\n",
              " 1,\n",
              " 45,\n",
              " 33,\n",
              " 30,\n",
              " 1]"
            ]
          },
          "metadata": {},
          "execution_count": 39
        }
      ]
    },
    {
      "cell_type": "code",
      "metadata": {
        "id": "uPqCqQ9yQnHy",
        "colab": {
          "base_uri": "https://localhost:8080/"
        },
        "outputId": "44bea56b-6245-4554-cb23-b04d6910777e"
      },
      "source": [
        "len(test_text)"
      ],
      "execution_count": 40,
      "outputs": [
        {
          "output_type": "execute_result",
          "data": {
            "text/plain": [
              "100"
            ]
          },
          "metadata": {},
          "execution_count": 40
        }
      ]
    }
  ]
}